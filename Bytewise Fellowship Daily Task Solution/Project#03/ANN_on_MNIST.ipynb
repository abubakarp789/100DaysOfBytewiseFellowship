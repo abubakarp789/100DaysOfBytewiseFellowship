{
 "cells": [
  {
   "cell_type": "markdown",
   "metadata": {},
   "source": [
    "# ANN ON MNIST DATA | PROJECT#03 | DL"
   ]
  },
  {
   "cell_type": "markdown",
   "metadata": {},
   "source": [
    "### IMPORTING LIBRARIES"
   ]
  },
  {
   "cell_type": "code",
   "execution_count": 34,
   "metadata": {},
   "outputs": [],
   "source": [
    "import numpy as np\n",
    "import pandas as pd\n",
    "from matplotlib import pyplot as plt"
   ]
  },
  {
   "cell_type": "markdown",
   "metadata": {},
   "source": [
    "### LOADING AND EXPLORING THE DATA"
   ]
  },
  {
   "cell_type": "code",
   "execution_count": 35,
   "metadata": {},
   "outputs": [],
   "source": [
    "data = pd.read_csv('Data/train.csv')"
   ]
  },
  {
   "cell_type": "code",
   "execution_count": 36,
   "metadata": {},
   "outputs": [
    {
     "data": {
      "text/html": [
       "<div>\n",
       "<style scoped>\n",
       "    .dataframe tbody tr th:only-of-type {\n",
       "        vertical-align: middle;\n",
       "    }\n",
       "\n",
       "    .dataframe tbody tr th {\n",
       "        vertical-align: top;\n",
       "    }\n",
       "\n",
       "    .dataframe thead th {\n",
       "        text-align: right;\n",
       "    }\n",
       "</style>\n",
       "<table border=\"1\" class=\"dataframe\">\n",
       "  <thead>\n",
       "    <tr style=\"text-align: right;\">\n",
       "      <th></th>\n",
       "      <th>label</th>\n",
       "      <th>pixel0</th>\n",
       "      <th>pixel1</th>\n",
       "      <th>pixel2</th>\n",
       "      <th>pixel3</th>\n",
       "      <th>pixel4</th>\n",
       "      <th>pixel5</th>\n",
       "      <th>pixel6</th>\n",
       "      <th>pixel7</th>\n",
       "      <th>pixel8</th>\n",
       "      <th>...</th>\n",
       "      <th>pixel774</th>\n",
       "      <th>pixel775</th>\n",
       "      <th>pixel776</th>\n",
       "      <th>pixel777</th>\n",
       "      <th>pixel778</th>\n",
       "      <th>pixel779</th>\n",
       "      <th>pixel780</th>\n",
       "      <th>pixel781</th>\n",
       "      <th>pixel782</th>\n",
       "      <th>pixel783</th>\n",
       "    </tr>\n",
       "  </thead>\n",
       "  <tbody>\n",
       "    <tr>\n",
       "      <th>0</th>\n",
       "      <td>1</td>\n",
       "      <td>0</td>\n",
       "      <td>0</td>\n",
       "      <td>0</td>\n",
       "      <td>0</td>\n",
       "      <td>0</td>\n",
       "      <td>0</td>\n",
       "      <td>0</td>\n",
       "      <td>0</td>\n",
       "      <td>0</td>\n",
       "      <td>...</td>\n",
       "      <td>0</td>\n",
       "      <td>0</td>\n",
       "      <td>0</td>\n",
       "      <td>0</td>\n",
       "      <td>0</td>\n",
       "      <td>0</td>\n",
       "      <td>0</td>\n",
       "      <td>0</td>\n",
       "      <td>0</td>\n",
       "      <td>0</td>\n",
       "    </tr>\n",
       "    <tr>\n",
       "      <th>1</th>\n",
       "      <td>0</td>\n",
       "      <td>0</td>\n",
       "      <td>0</td>\n",
       "      <td>0</td>\n",
       "      <td>0</td>\n",
       "      <td>0</td>\n",
       "      <td>0</td>\n",
       "      <td>0</td>\n",
       "      <td>0</td>\n",
       "      <td>0</td>\n",
       "      <td>...</td>\n",
       "      <td>0</td>\n",
       "      <td>0</td>\n",
       "      <td>0</td>\n",
       "      <td>0</td>\n",
       "      <td>0</td>\n",
       "      <td>0</td>\n",
       "      <td>0</td>\n",
       "      <td>0</td>\n",
       "      <td>0</td>\n",
       "      <td>0</td>\n",
       "    </tr>\n",
       "    <tr>\n",
       "      <th>2</th>\n",
       "      <td>1</td>\n",
       "      <td>0</td>\n",
       "      <td>0</td>\n",
       "      <td>0</td>\n",
       "      <td>0</td>\n",
       "      <td>0</td>\n",
       "      <td>0</td>\n",
       "      <td>0</td>\n",
       "      <td>0</td>\n",
       "      <td>0</td>\n",
       "      <td>...</td>\n",
       "      <td>0</td>\n",
       "      <td>0</td>\n",
       "      <td>0</td>\n",
       "      <td>0</td>\n",
       "      <td>0</td>\n",
       "      <td>0</td>\n",
       "      <td>0</td>\n",
       "      <td>0</td>\n",
       "      <td>0</td>\n",
       "      <td>0</td>\n",
       "    </tr>\n",
       "    <tr>\n",
       "      <th>3</th>\n",
       "      <td>4</td>\n",
       "      <td>0</td>\n",
       "      <td>0</td>\n",
       "      <td>0</td>\n",
       "      <td>0</td>\n",
       "      <td>0</td>\n",
       "      <td>0</td>\n",
       "      <td>0</td>\n",
       "      <td>0</td>\n",
       "      <td>0</td>\n",
       "      <td>...</td>\n",
       "      <td>0</td>\n",
       "      <td>0</td>\n",
       "      <td>0</td>\n",
       "      <td>0</td>\n",
       "      <td>0</td>\n",
       "      <td>0</td>\n",
       "      <td>0</td>\n",
       "      <td>0</td>\n",
       "      <td>0</td>\n",
       "      <td>0</td>\n",
       "    </tr>\n",
       "    <tr>\n",
       "      <th>4</th>\n",
       "      <td>0</td>\n",
       "      <td>0</td>\n",
       "      <td>0</td>\n",
       "      <td>0</td>\n",
       "      <td>0</td>\n",
       "      <td>0</td>\n",
       "      <td>0</td>\n",
       "      <td>0</td>\n",
       "      <td>0</td>\n",
       "      <td>0</td>\n",
       "      <td>...</td>\n",
       "      <td>0</td>\n",
       "      <td>0</td>\n",
       "      <td>0</td>\n",
       "      <td>0</td>\n",
       "      <td>0</td>\n",
       "      <td>0</td>\n",
       "      <td>0</td>\n",
       "      <td>0</td>\n",
       "      <td>0</td>\n",
       "      <td>0</td>\n",
       "    </tr>\n",
       "  </tbody>\n",
       "</table>\n",
       "<p>5 rows × 785 columns</p>\n",
       "</div>"
      ],
      "text/plain": [
       "   label  pixel0  pixel1  pixel2  pixel3  pixel4  pixel5  pixel6  pixel7  \\\n",
       "0      1       0       0       0       0       0       0       0       0   \n",
       "1      0       0       0       0       0       0       0       0       0   \n",
       "2      1       0       0       0       0       0       0       0       0   \n",
       "3      4       0       0       0       0       0       0       0       0   \n",
       "4      0       0       0       0       0       0       0       0       0   \n",
       "\n",
       "   pixel8  ...  pixel774  pixel775  pixel776  pixel777  pixel778  pixel779  \\\n",
       "0       0  ...         0         0         0         0         0         0   \n",
       "1       0  ...         0         0         0         0         0         0   \n",
       "2       0  ...         0         0         0         0         0         0   \n",
       "3       0  ...         0         0         0         0         0         0   \n",
       "4       0  ...         0         0         0         0         0         0   \n",
       "\n",
       "   pixel780  pixel781  pixel782  pixel783  \n",
       "0         0         0         0         0  \n",
       "1         0         0         0         0  \n",
       "2         0         0         0         0  \n",
       "3         0         0         0         0  \n",
       "4         0         0         0         0  \n",
       "\n",
       "[5 rows x 785 columns]"
      ]
     },
     "execution_count": 36,
     "metadata": {},
     "output_type": "execute_result"
    }
   ],
   "source": [
    "data.head()"
   ]
  },
  {
   "cell_type": "code",
   "execution_count": 37,
   "metadata": {},
   "outputs": [
    {
     "data": {
      "text/html": [
       "<div>\n",
       "<style scoped>\n",
       "    .dataframe tbody tr th:only-of-type {\n",
       "        vertical-align: middle;\n",
       "    }\n",
       "\n",
       "    .dataframe tbody tr th {\n",
       "        vertical-align: top;\n",
       "    }\n",
       "\n",
       "    .dataframe thead th {\n",
       "        text-align: right;\n",
       "    }\n",
       "</style>\n",
       "<table border=\"1\" class=\"dataframe\">\n",
       "  <thead>\n",
       "    <tr style=\"text-align: right;\">\n",
       "      <th></th>\n",
       "      <th>label</th>\n",
       "      <th>pixel0</th>\n",
       "      <th>pixel1</th>\n",
       "      <th>pixel2</th>\n",
       "      <th>pixel3</th>\n",
       "      <th>pixel4</th>\n",
       "      <th>pixel5</th>\n",
       "      <th>pixel6</th>\n",
       "      <th>pixel7</th>\n",
       "      <th>pixel8</th>\n",
       "      <th>...</th>\n",
       "      <th>pixel774</th>\n",
       "      <th>pixel775</th>\n",
       "      <th>pixel776</th>\n",
       "      <th>pixel777</th>\n",
       "      <th>pixel778</th>\n",
       "      <th>pixel779</th>\n",
       "      <th>pixel780</th>\n",
       "      <th>pixel781</th>\n",
       "      <th>pixel782</th>\n",
       "      <th>pixel783</th>\n",
       "    </tr>\n",
       "  </thead>\n",
       "  <tbody>\n",
       "    <tr>\n",
       "      <th>count</th>\n",
       "      <td>42000.000000</td>\n",
       "      <td>42000.0</td>\n",
       "      <td>42000.0</td>\n",
       "      <td>42000.0</td>\n",
       "      <td>42000.0</td>\n",
       "      <td>42000.0</td>\n",
       "      <td>42000.0</td>\n",
       "      <td>42000.0</td>\n",
       "      <td>42000.0</td>\n",
       "      <td>42000.0</td>\n",
       "      <td>...</td>\n",
       "      <td>42000.000000</td>\n",
       "      <td>42000.000000</td>\n",
       "      <td>42000.000000</td>\n",
       "      <td>42000.00000</td>\n",
       "      <td>42000.000000</td>\n",
       "      <td>42000.000000</td>\n",
       "      <td>42000.0</td>\n",
       "      <td>42000.0</td>\n",
       "      <td>42000.0</td>\n",
       "      <td>42000.0</td>\n",
       "    </tr>\n",
       "    <tr>\n",
       "      <th>mean</th>\n",
       "      <td>4.456643</td>\n",
       "      <td>0.0</td>\n",
       "      <td>0.0</td>\n",
       "      <td>0.0</td>\n",
       "      <td>0.0</td>\n",
       "      <td>0.0</td>\n",
       "      <td>0.0</td>\n",
       "      <td>0.0</td>\n",
       "      <td>0.0</td>\n",
       "      <td>0.0</td>\n",
       "      <td>...</td>\n",
       "      <td>0.219286</td>\n",
       "      <td>0.117095</td>\n",
       "      <td>0.059024</td>\n",
       "      <td>0.02019</td>\n",
       "      <td>0.017238</td>\n",
       "      <td>0.002857</td>\n",
       "      <td>0.0</td>\n",
       "      <td>0.0</td>\n",
       "      <td>0.0</td>\n",
       "      <td>0.0</td>\n",
       "    </tr>\n",
       "    <tr>\n",
       "      <th>std</th>\n",
       "      <td>2.887730</td>\n",
       "      <td>0.0</td>\n",
       "      <td>0.0</td>\n",
       "      <td>0.0</td>\n",
       "      <td>0.0</td>\n",
       "      <td>0.0</td>\n",
       "      <td>0.0</td>\n",
       "      <td>0.0</td>\n",
       "      <td>0.0</td>\n",
       "      <td>0.0</td>\n",
       "      <td>...</td>\n",
       "      <td>6.312890</td>\n",
       "      <td>4.633819</td>\n",
       "      <td>3.274488</td>\n",
       "      <td>1.75987</td>\n",
       "      <td>1.894498</td>\n",
       "      <td>0.414264</td>\n",
       "      <td>0.0</td>\n",
       "      <td>0.0</td>\n",
       "      <td>0.0</td>\n",
       "      <td>0.0</td>\n",
       "    </tr>\n",
       "    <tr>\n",
       "      <th>min</th>\n",
       "      <td>0.000000</td>\n",
       "      <td>0.0</td>\n",
       "      <td>0.0</td>\n",
       "      <td>0.0</td>\n",
       "      <td>0.0</td>\n",
       "      <td>0.0</td>\n",
       "      <td>0.0</td>\n",
       "      <td>0.0</td>\n",
       "      <td>0.0</td>\n",
       "      <td>0.0</td>\n",
       "      <td>...</td>\n",
       "      <td>0.000000</td>\n",
       "      <td>0.000000</td>\n",
       "      <td>0.000000</td>\n",
       "      <td>0.00000</td>\n",
       "      <td>0.000000</td>\n",
       "      <td>0.000000</td>\n",
       "      <td>0.0</td>\n",
       "      <td>0.0</td>\n",
       "      <td>0.0</td>\n",
       "      <td>0.0</td>\n",
       "    </tr>\n",
       "    <tr>\n",
       "      <th>25%</th>\n",
       "      <td>2.000000</td>\n",
       "      <td>0.0</td>\n",
       "      <td>0.0</td>\n",
       "      <td>0.0</td>\n",
       "      <td>0.0</td>\n",
       "      <td>0.0</td>\n",
       "      <td>0.0</td>\n",
       "      <td>0.0</td>\n",
       "      <td>0.0</td>\n",
       "      <td>0.0</td>\n",
       "      <td>...</td>\n",
       "      <td>0.000000</td>\n",
       "      <td>0.000000</td>\n",
       "      <td>0.000000</td>\n",
       "      <td>0.00000</td>\n",
       "      <td>0.000000</td>\n",
       "      <td>0.000000</td>\n",
       "      <td>0.0</td>\n",
       "      <td>0.0</td>\n",
       "      <td>0.0</td>\n",
       "      <td>0.0</td>\n",
       "    </tr>\n",
       "    <tr>\n",
       "      <th>50%</th>\n",
       "      <td>4.000000</td>\n",
       "      <td>0.0</td>\n",
       "      <td>0.0</td>\n",
       "      <td>0.0</td>\n",
       "      <td>0.0</td>\n",
       "      <td>0.0</td>\n",
       "      <td>0.0</td>\n",
       "      <td>0.0</td>\n",
       "      <td>0.0</td>\n",
       "      <td>0.0</td>\n",
       "      <td>...</td>\n",
       "      <td>0.000000</td>\n",
       "      <td>0.000000</td>\n",
       "      <td>0.000000</td>\n",
       "      <td>0.00000</td>\n",
       "      <td>0.000000</td>\n",
       "      <td>0.000000</td>\n",
       "      <td>0.0</td>\n",
       "      <td>0.0</td>\n",
       "      <td>0.0</td>\n",
       "      <td>0.0</td>\n",
       "    </tr>\n",
       "    <tr>\n",
       "      <th>75%</th>\n",
       "      <td>7.000000</td>\n",
       "      <td>0.0</td>\n",
       "      <td>0.0</td>\n",
       "      <td>0.0</td>\n",
       "      <td>0.0</td>\n",
       "      <td>0.0</td>\n",
       "      <td>0.0</td>\n",
       "      <td>0.0</td>\n",
       "      <td>0.0</td>\n",
       "      <td>0.0</td>\n",
       "      <td>...</td>\n",
       "      <td>0.000000</td>\n",
       "      <td>0.000000</td>\n",
       "      <td>0.000000</td>\n",
       "      <td>0.00000</td>\n",
       "      <td>0.000000</td>\n",
       "      <td>0.000000</td>\n",
       "      <td>0.0</td>\n",
       "      <td>0.0</td>\n",
       "      <td>0.0</td>\n",
       "      <td>0.0</td>\n",
       "    </tr>\n",
       "    <tr>\n",
       "      <th>max</th>\n",
       "      <td>9.000000</td>\n",
       "      <td>0.0</td>\n",
       "      <td>0.0</td>\n",
       "      <td>0.0</td>\n",
       "      <td>0.0</td>\n",
       "      <td>0.0</td>\n",
       "      <td>0.0</td>\n",
       "      <td>0.0</td>\n",
       "      <td>0.0</td>\n",
       "      <td>0.0</td>\n",
       "      <td>...</td>\n",
       "      <td>254.000000</td>\n",
       "      <td>254.000000</td>\n",
       "      <td>253.000000</td>\n",
       "      <td>253.00000</td>\n",
       "      <td>254.000000</td>\n",
       "      <td>62.000000</td>\n",
       "      <td>0.0</td>\n",
       "      <td>0.0</td>\n",
       "      <td>0.0</td>\n",
       "      <td>0.0</td>\n",
       "    </tr>\n",
       "  </tbody>\n",
       "</table>\n",
       "<p>8 rows × 785 columns</p>\n",
       "</div>"
      ],
      "text/plain": [
       "              label   pixel0   pixel1   pixel2   pixel3   pixel4   pixel5  \\\n",
       "count  42000.000000  42000.0  42000.0  42000.0  42000.0  42000.0  42000.0   \n",
       "mean       4.456643      0.0      0.0      0.0      0.0      0.0      0.0   \n",
       "std        2.887730      0.0      0.0      0.0      0.0      0.0      0.0   \n",
       "min        0.000000      0.0      0.0      0.0      0.0      0.0      0.0   \n",
       "25%        2.000000      0.0      0.0      0.0      0.0      0.0      0.0   \n",
       "50%        4.000000      0.0      0.0      0.0      0.0      0.0      0.0   \n",
       "75%        7.000000      0.0      0.0      0.0      0.0      0.0      0.0   \n",
       "max        9.000000      0.0      0.0      0.0      0.0      0.0      0.0   \n",
       "\n",
       "        pixel6   pixel7   pixel8  ...      pixel774      pixel775  \\\n",
       "count  42000.0  42000.0  42000.0  ...  42000.000000  42000.000000   \n",
       "mean       0.0      0.0      0.0  ...      0.219286      0.117095   \n",
       "std        0.0      0.0      0.0  ...      6.312890      4.633819   \n",
       "min        0.0      0.0      0.0  ...      0.000000      0.000000   \n",
       "25%        0.0      0.0      0.0  ...      0.000000      0.000000   \n",
       "50%        0.0      0.0      0.0  ...      0.000000      0.000000   \n",
       "75%        0.0      0.0      0.0  ...      0.000000      0.000000   \n",
       "max        0.0      0.0      0.0  ...    254.000000    254.000000   \n",
       "\n",
       "           pixel776     pixel777      pixel778      pixel779  pixel780  \\\n",
       "count  42000.000000  42000.00000  42000.000000  42000.000000   42000.0   \n",
       "mean       0.059024      0.02019      0.017238      0.002857       0.0   \n",
       "std        3.274488      1.75987      1.894498      0.414264       0.0   \n",
       "min        0.000000      0.00000      0.000000      0.000000       0.0   \n",
       "25%        0.000000      0.00000      0.000000      0.000000       0.0   \n",
       "50%        0.000000      0.00000      0.000000      0.000000       0.0   \n",
       "75%        0.000000      0.00000      0.000000      0.000000       0.0   \n",
       "max      253.000000    253.00000    254.000000     62.000000       0.0   \n",
       "\n",
       "       pixel781  pixel782  pixel783  \n",
       "count   42000.0   42000.0   42000.0  \n",
       "mean        0.0       0.0       0.0  \n",
       "std         0.0       0.0       0.0  \n",
       "min         0.0       0.0       0.0  \n",
       "25%         0.0       0.0       0.0  \n",
       "50%         0.0       0.0       0.0  \n",
       "75%         0.0       0.0       0.0  \n",
       "max         0.0       0.0       0.0  \n",
       "\n",
       "[8 rows x 785 columns]"
      ]
     },
     "execution_count": 37,
     "metadata": {},
     "output_type": "execute_result"
    }
   ],
   "source": [
    "data.describe()"
   ]
  },
  {
   "cell_type": "code",
   "execution_count": 38,
   "metadata": {},
   "outputs": [
    {
     "data": {
      "text/plain": [
       "label       0\n",
       "pixel0      0\n",
       "pixel1      0\n",
       "pixel2      0\n",
       "pixel3      0\n",
       "           ..\n",
       "pixel779    0\n",
       "pixel780    0\n",
       "pixel781    0\n",
       "pixel782    0\n",
       "pixel783    0\n",
       "Length: 785, dtype: int64"
      ]
     },
     "execution_count": 38,
     "metadata": {},
     "output_type": "execute_result"
    }
   ],
   "source": [
    "data.isnull().sum()"
   ]
  },
  {
   "cell_type": "markdown",
   "metadata": {},
   "source": [
    "### DATA PREPERATION"
   ]
  },
  {
   "cell_type": "code",
   "execution_count": 39,
   "metadata": {},
   "outputs": [],
   "source": [
    "data = np.array(data)\n",
    "m, n = data.shape\n",
    "np.random.shuffle(data) # shuffle before splitting into TEST and training sets"
   ]
  },
  {
   "cell_type": "markdown",
   "metadata": {},
   "source": [
    "### SPLITTING DATA INTO TEST AND TRAINING SETS"
   ]
  },
  {
   "cell_type": "code",
   "execution_count": 40,
   "metadata": {},
   "outputs": [],
   "source": [
    "data_test = data[0:1000].T\n",
    "Y_test = data_test[0]\n",
    "X_test = data_test[1:n]\n",
    "X_test = X_test / 255."
   ]
  },
  {
   "cell_type": "code",
   "execution_count": 41,
   "metadata": {},
   "outputs": [
    {
     "name": "stdout",
     "output_type": "stream",
     "text": [
      "[[0. 0. 0. ... 0. 0. 0.]\n",
      " [0. 0. 0. ... 0. 0. 0.]\n",
      " [0. 0. 0. ... 0. 0. 0.]\n",
      " ...\n",
      " [0. 0. 0. ... 0. 0. 0.]\n",
      " [0. 0. 0. ... 0. 0. 0.]\n",
      " [0. 0. 0. ... 0. 0. 0.]]\n",
      "[2 1 9 0 7 9 8 8 6 1 3 9 4 8 1 6 0 2 6 7 8 6 2 4 7 1 0 7 3 0 9 5 9 1 7 8 5\n",
      " 7 5 9 7 9 8 1 0 4 3 5 7 8 3 0 0 4 1 1 8 0 8 5 7 7 0 8 3 6 2 0 0 3 3 5 3 0\n",
      " 3 4 7 2 0 3 6 3 4 7 8 8 9 7 4 9 9 1 9 6 9 3 0 0 4 5 1 1 1 7 7 2 9 4 5 7 0\n",
      " 2 9 9 2 9 2 6 1 9 9 3 7 7 9 8 1 1 2 7 4 6 9 5 1 5 4 4 4 7 1 9 4 1 8 1 6 4\n",
      " 3 1 6 2 3 2 7 1 8 9 0 2 6 2 4 5 3 7 2 0 4 5 5 0 1 0 9 1 9 3 7 0 1 1 9 2 2\n",
      " 6 6 1 3 9 3 4 9 4 6 7 3 9 4 8 6 8 5 0 2 4 1 0 3 4 7 1 1 3 8 9 8 6 0 5 9 7\n",
      " 6 6 5 9 7 1 9 4 7 8 6 7 9 9 9 6 7 3 4 5 2 5 1 7 8 6 1 4 7 8 4 3 1 2 4 2 9\n",
      " 0 0 7 8 4 9 1 6 3 1 4 0 5 3 6 2 5 6 3 1 5 3 5 3 4 1 8 5 4 2 9 2 9 8 3 7 3\n",
      " 5 5 6 5 0 8 9 2 0 3 2 7 4 1 8 0 3 7 0 4 7 4 9 8 6 1 1 0 6 7 2 5 6 9 6 0 3\n",
      " 3 0 5 8 0 9 7 5 7 4 2 7 4 3 7 8 7 9 8 3 2 0 4 0 6 4 6 5 0 4 1 0 7 7 4 1 1\n",
      " 0 8 9 3 8 1 1 4 1 5 0 0 8 2 0 9 2 4 9 2 1 4 5 3 9 1 9 0 4 2 3 5 7 7 5 4 3\n",
      " 7 6 6 5 6 7 8 6 3 7 5 8 1 2 5 3 2 7 0 9 2 8 9 6 3 9 0 2 7 8 9 4 6 9 5 6 7\n",
      " 2 2 1 7 2 9 5 6 2 8 0 4 2 6 1 1 7 4 0 4 3 7 9 6 1 9 1 8 1 1 9 1 6 3 1 7 8\n",
      " 3 5 6 3 1 4 9 7 7 1 5 2 6 7 7 6 9 5 0 3 0 1 5 6 8 5 6 4 2 6 7 9 7 6 1 6 5\n",
      " 2 9 5 2 4 3 2 5 9 8 5 1 7 0 6 5 2 7 8 2 6 7 1 4 0 9 1 5 0 1 3 7 9 9 1 9 1\n",
      " 3 4 7 3 5 6 5 0 8 8 7 4 2 6 1 4 9 9 8 0 4 8 0 4 9 9 3 7 4 7 0 3 0 3 9 0 1\n",
      " 1 3 4 9 5 2 6 7 4 7 6 2 0 1 2 7 0 6 7 1 0 2 1 2 9 5 5 9 9 7 3 7 8 6 8 9 8\n",
      " 7 6 6 3 3 1 5 8 3 5 6 6 5 3 5 6 5 5 9 7 6 1 5 9 9 0 6 0 5 7 5 4 1 8 7 1 0\n",
      " 0 4 6 3 5 5 1 6 1 2 7 7 0 1 6 4 1 7 6 1 3 0 2 4 9 8 7 6 8 5 4 1 4 7 5 6 1\n",
      " 3 5 0 6 8 6 7 9 6 5 5 9 1 1 5 3 4 9 8 3 7 3 2 1 1 3 3 8 8 3 1 3 1 7 6 8 7\n",
      " 3 0 3 8 8 3 2 6 8 0 6 7 6 0 0 7 3 1 9 6 1 6 5 9 2 7 2 9 9 4 3 5 4 0 0 3 0\n",
      " 4 4 3 7 4 8 8 5 8 0 7 7 2 4 8 0 1 5 1 5 9 6 6 3 5 1 6 8 4 6 9 4 8 6 7 7 6\n",
      " 7 5 5 2 5 5 9 1 3 4 5 4 9 0 1 1 0 6 4 1 7 2 2 2 9 0 9 1 9 3 2 7 5 9 9 5 7\n",
      " 3 0 2 6 9 8 3 6 7 1 4 2 4 3 5 7 8 7 1 3 1 4 5 1 7 2 5 4 6 5 9 5 0 6 6 3 4\n",
      " 7 4 0 6 7 1 7 4 2 7 4 6 3 1 1 1 0 3 0 0 0 7 6 7 6 4 4 6 8 0 1 3 4 0 0 5 1\n",
      " 1 5 0 1 8 7 3 0 9 6 7 6 8 3 2 5 1 1 8 8 5 0 3 6 4 5 3 4 6 2 4 4 1 4 3 4 1\n",
      " 4 8 4 0 6 9 5 9 6 9 3 2 6 9 8 2 1 0 8 9 0 4 8 7 1 6 1 0 0 3 7 8 1 8 7 5 8\n",
      " 1]\n"
     ]
    }
   ],
   "source": [
    "print(X_test)\n",
    "print(Y_test)"
   ]
  },
  {
   "cell_type": "code",
   "execution_count": 42,
   "metadata": {},
   "outputs": [],
   "source": [
    "data_train = data[1000:m].T\n",
    "Y_train = data_train[0]\n",
    "X_train = data_train[1:n]\n",
    "X_train = X_train / 255.\n",
    "_,m_train = X_train.shape"
   ]
  },
  {
   "cell_type": "code",
   "execution_count": 43,
   "metadata": {},
   "outputs": [
    {
     "name": "stdout",
     "output_type": "stream",
     "text": [
      "[3 0 8 ... 1 8 7]\n"
     ]
    }
   ],
   "source": [
    "print(Y_train)"
   ]
  },
  {
   "cell_type": "code",
   "execution_count": 44,
   "metadata": {},
   "outputs": [
    {
     "name": "stdout",
     "output_type": "stream",
     "text": [
      "[[0. 0. 0. ... 0. 0. 0.]\n",
      " [0. 0. 0. ... 0. 0. 0.]\n",
      " [0. 0. 0. ... 0. 0. 0.]\n",
      " ...\n",
      " [0. 0. 0. ... 0. 0. 0.]\n",
      " [0. 0. 0. ... 0. 0. 0.]\n",
      " [0. 0. 0. ... 0. 0. 0.]]\n"
     ]
    }
   ],
   "source": [
    "print(X_train)"
   ]
  },
  {
   "cell_type": "markdown",
   "metadata": {},
   "source": [
    "### INITIALIZING PARAMETERS"
   ]
  },
  {
   "cell_type": "code",
   "execution_count": 46,
   "metadata": {},
   "outputs": [],
   "source": [
    "def init_params():\n",
    "    W1 = np.random.rand(10, 784) - 0.5\n",
    "    b1 = np.random.rand(10, 1) - 0.5\n",
    "    W2 = np.random.rand(10, 10) - 0.5\n",
    "    b2 = np.random.rand(10, 1) - 0.5\n",
    "    return W1, b1, W2, b2"
   ]
  },
  {
   "cell_type": "markdown",
   "metadata": {},
   "source": [
    "### ACTIVATION FUNCTIONS"
   ]
  },
  {
   "cell_type": "code",
   "execution_count": 47,
   "metadata": {},
   "outputs": [],
   "source": [
    "def ReLU(Z):\n",
    "    return np.maximum(Z, 0)\n",
    "\n",
    "def softmax(Z):\n",
    "    A = np.exp(Z) / sum(np.exp(Z))\n",
    "    return A"
   ]
  },
  {
   "cell_type": "markdown",
   "metadata": {},
   "source": [
    "### FORWARD PROPAGATION"
   ]
  },
  {
   "cell_type": "code",
   "execution_count": 48,
   "metadata": {},
   "outputs": [],
   "source": [
    "def forward_prop(W1, b1, W2, b2, X):\n",
    "    Z1 = W1.dot(X) + b1\n",
    "    A1 = ReLU(Z1)\n",
    "    Z2 = W2.dot(A1) + b2\n",
    "    A2 = softmax(Z2)\n",
    "    return Z1, A1, Z2, A2"
   ]
  },
  {
   "cell_type": "markdown",
   "metadata": {},
   "source": [
    "### DERIVATIVE OF ReLU"
   ]
  },
  {
   "cell_type": "code",
   "execution_count": 49,
   "metadata": {},
   "outputs": [],
   "source": [
    "def ReLU_deriv(Z):\n",
    "    return Z > 0"
   ]
  },
  {
   "cell_type": "markdown",
   "metadata": {},
   "source": [
    "### ONE-HOT ENCODING"
   ]
  },
  {
   "cell_type": "code",
   "execution_count": 50,
   "metadata": {},
   "outputs": [],
   "source": [
    "def one_hot(Y):\n",
    "    one_hot_Y = np.zeros((Y.size, Y.max() + 1))\n",
    "    one_hot_Y[np.arange(Y.size), Y] = 1\n",
    "    one_hot_Y = one_hot_Y.T\n",
    "    return one_hot_Y"
   ]
  },
  {
   "cell_type": "markdown",
   "metadata": {},
   "source": [
    "### BACKWARD PROPAGATION"
   ]
  },
  {
   "cell_type": "code",
   "execution_count": 51,
   "metadata": {},
   "outputs": [],
   "source": [
    "def backward_prop(Z1, A1, Z2, A2, W1, W2, X, Y):\n",
    "    one_hot_Y = one_hot(Y)\n",
    "    dZ2 = A2 - one_hot_Y\n",
    "    dW2 = 1 / m * dZ2.dot(A1.T)\n",
    "    db2 = 1 / m * np.sum(dZ2)\n",
    "    dZ1 = W2.T.dot(dZ2) * ReLU_deriv(Z1)\n",
    "    dW1 = 1 / m * dZ1.dot(X.T)\n",
    "    db1 = 1 / m * np.sum(dZ1)\n",
    "    return dW1, db1, dW2, db2"
   ]
  },
  {
   "cell_type": "markdown",
   "metadata": {},
   "source": [
    "### UPDATING PARAMETERS"
   ]
  },
  {
   "cell_type": "code",
   "execution_count": 52,
   "metadata": {},
   "outputs": [],
   "source": [
    "def update_params(W1, b1, W2, b2, dW1, db1, dW2, db2, alpha):\n",
    "    W1 = W1 - alpha * dW1\n",
    "    b1 = b1 - alpha * db1    \n",
    "    W2 = W2 - alpha * dW2  \n",
    "    b2 = b2 - alpha * db2    \n",
    "    return W1, b1, W2, b2"
   ]
  },
  {
   "cell_type": "markdown",
   "metadata": {},
   "source": [
    "### MAKING PREDICTIONS"
   ]
  },
  {
   "cell_type": "code",
   "execution_count": 53,
   "metadata": {},
   "outputs": [],
   "source": [
    "def get_predictions(A2):\n",
    "    return np.argmax(A2, 0)\n"
   ]
  },
  {
   "cell_type": "code",
   "execution_count": 54,
   "metadata": {},
   "outputs": [],
   "source": [
    "def get_accuracy(predictions, Y):\n",
    "    print(predictions, Y)\n",
    "    return np.sum(predictions == Y) / Y.size"
   ]
  },
  {
   "cell_type": "markdown",
   "metadata": {},
   "source": [
    "### TRAINEING THE MODEL"
   ]
  },
  {
   "cell_type": "code",
   "execution_count": 55,
   "metadata": {},
   "outputs": [],
   "source": [
    "def gradient_descent(X, Y, alpha, iterations):\n",
    "    W1, b1, W2, b2 = init_params()\n",
    "    for i in range(iterations):\n",
    "        Z1, A1, Z2, A2 = forward_prop(W1, b1, W2, b2, X)\n",
    "        dW1, db1, dW2, db2 = backward_prop(Z1, A1, Z2, A2, W1, W2, X, Y)\n",
    "        W1, b1, W2, b2 = update_params(W1, b1, W2, b2, dW1, db1, dW2, db2, alpha)\n",
    "        if i % 10 == 0:\n",
    "            print(\"Iteration: \", i)\n",
    "            predictions = get_predictions(A2)\n",
    "            print(f\"The Accuracy on train data is: \", get_accuracy(predictions, Y))\n",
    "    return W1, b1, W2, b2"
   ]
  },
  {
   "cell_type": "markdown",
   "metadata": {},
   "source": [
    "### FINAL MODEL TRAINING AND EVALUATION"
   ]
  },
  {
   "cell_type": "code",
   "execution_count": 56,
   "metadata": {},
   "outputs": [
    {
     "name": "stdout",
     "output_type": "stream",
     "text": [
      "Iteration:  0\n",
      "[4 4 4 ... 4 9 4] [3 0 8 ... 1 8 7]\n",
      "The Accuracy on train data is:  0.07897560975609756\n",
      "Iteration:  10\n",
      "[2 0 9 ... 1 9 2] [3 0 8 ... 1 8 7]\n",
      "The Accuracy on train data is:  0.18090243902439024\n",
      "Iteration:  20\n",
      "[3 0 2 ... 1 1 3] [3 0 8 ... 1 8 7]\n",
      "The Accuracy on train data is:  0.31153658536585366\n",
      "Iteration:  30\n",
      "[3 0 7 ... 1 1 7] [3 0 8 ... 1 8 7]\n",
      "The Accuracy on train data is:  0.38590243902439025\n",
      "Iteration:  40\n",
      "[3 0 9 ... 1 1 7] [3 0 8 ... 1 8 7]\n",
      "The Accuracy on train data is:  0.4350731707317073\n",
      "Iteration:  50\n",
      "[3 0 9 ... 1 1 7] [3 0 8 ... 1 8 7]\n",
      "The Accuracy on train data is:  0.47553658536585364\n",
      "Iteration:  60\n",
      "[3 0 9 ... 1 5 7] [3 0 8 ... 1 8 7]\n",
      "The Accuracy on train data is:  0.5095121951219512\n",
      "Iteration:  70\n",
      "[3 0 9 ... 1 5 7] [3 0 8 ... 1 8 7]\n",
      "The Accuracy on train data is:  0.5438536585365854\n",
      "Iteration:  80\n",
      "[3 0 9 ... 5 5 7] [3 0 8 ... 1 8 7]\n",
      "The Accuracy on train data is:  0.5770243902439024\n",
      "Iteration:  90\n",
      "[3 0 9 ... 5 5 7] [3 0 8 ... 1 8 7]\n",
      "The Accuracy on train data is:  0.6072926829268293\n",
      "Iteration:  100\n",
      "[3 0 9 ... 5 5 7] [3 0 8 ... 1 8 7]\n",
      "The Accuracy on train data is:  0.6334878048780488\n",
      "Iteration:  110\n",
      "[3 0 9 ... 5 5 7] [3 0 8 ... 1 8 7]\n",
      "The Accuracy on train data is:  0.6558780487804878\n",
      "Iteration:  120\n",
      "[3 0 9 ... 5 5 7] [3 0 8 ... 1 8 7]\n",
      "The Accuracy on train data is:  0.6757073170731708\n",
      "Iteration:  130\n",
      "[2 0 9 ... 5 5 7] [3 0 8 ... 1 8 7]\n",
      "The Accuracy on train data is:  0.6918048780487804\n",
      "Iteration:  140\n",
      "[2 0 9 ... 5 5 7] [3 0 8 ... 1 8 7]\n",
      "The Accuracy on train data is:  0.7050975609756097\n",
      "Iteration:  150\n",
      "[2 0 9 ... 5 5 7] [3 0 8 ... 1 8 7]\n",
      "The Accuracy on train data is:  0.7172439024390244\n",
      "Iteration:  160\n",
      "[2 0 9 ... 5 8 7] [3 0 8 ... 1 8 7]\n",
      "The Accuracy on train data is:  0.728390243902439\n",
      "Iteration:  170\n",
      "[2 0 9 ... 5 8 7] [3 0 8 ... 1 8 7]\n",
      "The Accuracy on train data is:  0.7377317073170732\n",
      "Iteration:  180\n",
      "[2 0 9 ... 5 8 7] [3 0 8 ... 1 8 7]\n",
      "The Accuracy on train data is:  0.7471219512195122\n",
      "Iteration:  190\n",
      "[2 0 9 ... 5 8 7] [3 0 8 ... 1 8 7]\n",
      "The Accuracy on train data is:  0.7546341463414634\n",
      "Iteration:  200\n",
      "[3 0 9 ... 5 8 7] [3 0 8 ... 1 8 7]\n",
      "The Accuracy on train data is:  0.761219512195122\n",
      "Iteration:  210\n",
      "[3 0 9 ... 5 8 7] [3 0 8 ... 1 8 7]\n",
      "The Accuracy on train data is:  0.7675609756097561\n",
      "Iteration:  220\n",
      "[3 0 9 ... 5 8 7] [3 0 8 ... 1 8 7]\n",
      "The Accuracy on train data is:  0.7741463414634147\n",
      "Iteration:  230\n",
      "[3 0 9 ... 5 8 7] [3 0 8 ... 1 8 7]\n",
      "The Accuracy on train data is:  0.7795609756097561\n",
      "Iteration:  240\n",
      "[3 0 9 ... 5 8 7] [3 0 8 ... 1 8 7]\n",
      "The Accuracy on train data is:  0.7843658536585366\n",
      "Iteration:  250\n",
      "[3 0 9 ... 5 8 7] [3 0 8 ... 1 8 7]\n",
      "The Accuracy on train data is:  0.7894878048780488\n",
      "Iteration:  260\n",
      "[3 0 9 ... 5 8 7] [3 0 8 ... 1 8 7]\n",
      "The Accuracy on train data is:  0.7936341463414635\n",
      "Iteration:  270\n",
      "[3 0 9 ... 5 8 7] [3 0 8 ... 1 8 7]\n",
      "The Accuracy on train data is:  0.7979756097560976\n",
      "Iteration:  280\n",
      "[3 0 9 ... 5 8 7] [3 0 8 ... 1 8 7]\n",
      "The Accuracy on train data is:  0.8019024390243903\n",
      "Iteration:  290\n",
      "[3 0 9 ... 5 8 7] [3 0 8 ... 1 8 7]\n",
      "The Accuracy on train data is:  0.8063658536585366\n",
      "Iteration:  300\n",
      "[3 0 9 ... 5 8 7] [3 0 8 ... 1 8 7]\n",
      "The Accuracy on train data is:  0.810219512195122\n",
      "Iteration:  310\n",
      "[3 0 9 ... 5 8 7] [3 0 8 ... 1 8 7]\n",
      "The Accuracy on train data is:  0.8141219512195121\n",
      "Iteration:  320\n",
      "[3 0 9 ... 5 8 7] [3 0 8 ... 1 8 7]\n",
      "The Accuracy on train data is:  0.817\n",
      "Iteration:  330\n",
      "[3 0 9 ... 5 8 7] [3 0 8 ... 1 8 7]\n",
      "The Accuracy on train data is:  0.8200975609756097\n",
      "Iteration:  340\n",
      "[3 0 9 ... 5 8 7] [3 0 8 ... 1 8 7]\n",
      "The Accuracy on train data is:  0.8233658536585365\n",
      "Iteration:  350\n",
      "[3 0 9 ... 5 8 7] [3 0 8 ... 1 8 7]\n",
      "The Accuracy on train data is:  0.8260487804878048\n",
      "Iteration:  360\n",
      "[3 0 9 ... 5 8 7] [3 0 8 ... 1 8 7]\n",
      "The Accuracy on train data is:  0.8285365853658536\n",
      "Iteration:  370\n",
      "[3 0 9 ... 5 8 7] [3 0 8 ... 1 8 7]\n",
      "The Accuracy on train data is:  0.831170731707317\n",
      "Iteration:  380\n",
      "[3 0 9 ... 5 8 7] [3 0 8 ... 1 8 7]\n",
      "The Accuracy on train data is:  0.8334634146341463\n",
      "Iteration:  390\n",
      "[3 0 9 ... 5 8 7] [3 0 8 ... 1 8 7]\n",
      "The Accuracy on train data is:  0.8354146341463414\n",
      "Iteration:  400\n",
      "[3 0 9 ... 5 8 7] [3 0 8 ... 1 8 7]\n",
      "The Accuracy on train data is:  0.8372195121951219\n",
      "Iteration:  410\n",
      "[3 0 9 ... 5 8 7] [3 0 8 ... 1 8 7]\n",
      "The Accuracy on train data is:  0.8387560975609756\n",
      "Iteration:  420\n",
      "[3 0 9 ... 5 8 7] [3 0 8 ... 1 8 7]\n",
      "The Accuracy on train data is:  0.8408048780487805\n",
      "Iteration:  430\n",
      "[3 0 9 ... 5 8 7] [3 0 8 ... 1 8 7]\n",
      "The Accuracy on train data is:  0.8421951219512195\n",
      "Iteration:  440\n",
      "[3 0 9 ... 5 8 7] [3 0 8 ... 1 8 7]\n",
      "The Accuracy on train data is:  0.8435609756097561\n",
      "Iteration:  450\n",
      "[3 0 9 ... 5 8 7] [3 0 8 ... 1 8 7]\n",
      "The Accuracy on train data is:  0.8450243902439024\n",
      "Iteration:  460\n",
      "[3 0 9 ... 5 8 7] [3 0 8 ... 1 8 7]\n",
      "The Accuracy on train data is:  0.846609756097561\n",
      "Iteration:  470\n",
      "[3 0 9 ... 5 8 7] [3 0 8 ... 1 8 7]\n",
      "The Accuracy on train data is:  0.848170731707317\n",
      "Iteration:  480\n",
      "[3 0 8 ... 5 8 7] [3 0 8 ... 1 8 7]\n",
      "The Accuracy on train data is:  0.8493170731707317\n",
      "Iteration:  490\n",
      "[3 0 8 ... 5 8 7] [3 0 8 ... 1 8 7]\n",
      "The Accuracy on train data is:  0.8504878048780488\n"
     ]
    }
   ],
   "source": [
    "W1, b1, W2, b2 = gradient_descent(X_train, Y_train, 0.10, 500)"
   ]
  },
  {
   "cell_type": "code",
   "execution_count": 57,
   "metadata": {},
   "outputs": [],
   "source": [
    "def make_predictions(X, W1, b1, W2, b2):\n",
    "    _, _, _, A2 = forward_prop(W1, b1, W2, b2, X)\n",
    "    predictions = get_predictions(A2)\n",
    "    return predictions\n"
   ]
  },
  {
   "cell_type": "code",
   "execution_count": 58,
   "metadata": {},
   "outputs": [],
   "source": [
    "def test_prediction(index, W1, b1, W2, b2):\n",
    "    current_image = X_train[:, index, None]\n",
    "    prediction = make_predictions(X_train[:, index, None], W1, b1, W2, b2)\n",
    "    label = Y_train[index]\n",
    "    print(\"Prediction: \", prediction)\n",
    "    print(\"Label: \", label)\n",
    "    \n",
    "    current_image = current_image.reshape((28, 28)) * 255\n",
    "    plt.gray()\n",
    "    plt.imshow(current_image, interpolation='nearest')\n",
    "    plt.show()"
   ]
  },
  {
   "cell_type": "code",
   "execution_count": 59,
   "metadata": {},
   "outputs": [
    {
     "name": "stdout",
     "output_type": "stream",
     "text": [
      "Prediction:  [3]\n",
      "Label:  3\n"
     ]
    },
    {
     "data": {
      "image/png": "[encoded data removed]",
      "text/plain": [
       "<Figure size 640x480 with 1 Axes>"
      ]
     },
     "metadata": {},
     "output_type": "display_data"
    },
    {
     "name": "stdout",
     "output_type": "stream",
     "text": [
      "Prediction:  [0]\n",
      "Label:  0\n"
     ]
    },
    {
     "data": {
      "image/png": "[encoded data removed]",
      "text/plain": [
       "<Figure size 640x480 with 1 Axes>"
      ]
     },
     "metadata": {},
     "output_type": "display_data"
    },
    {
     "name": "stdout",
     "output_type": "stream",
     "text": [
      "Prediction:  [8]\n",
      "Label:  8\n"
     ]
    },
    {
     "data": {
      "image/png": "[encoded data removed]",
      "text/plain": [
       "<Figure size 640x480 with 1 Axes>"
      ]
     },
     "metadata": {},
     "output_type": "display_data"
    },
    {
     "name": "stdout",
     "output_type": "stream",
     "text": [
      "Prediction:  [4]\n",
      "Label:  4\n"
     ]
    },
    {
     "data": {
      "image/png": "[encoded data removed]",
      "text/plain": [
       "<Figure size 640x480 with 1 Axes>"
      ]
     },
     "metadata": {},
     "output_type": "display_data"
    }
   ],
   "source": [
    "test_prediction(0, W1, b1, W2, b2)\n",
    "test_prediction(1, W1, b1, W2, b2)\n",
    "test_prediction(2, W1, b1, W2, b2)\n",
    "test_prediction(3, W1, b1, W2, b2)"
   ]
  },
  {
   "cell_type": "code",
   "execution_count": 60,
   "metadata": {},
   "outputs": [],
   "source": [
    "dev_predictions = make_predictions(X_test, W1, b1, W2, b2)"
   ]
  },
  {
   "cell_type": "code",
   "execution_count": 61,
   "metadata": {},
   "outputs": [
    {
     "name": "stdout",
     "output_type": "stream",
     "text": [
      "[2 1 9 0 4 9 8 2 6 1 3 7 9 8 1 6 0 3 6 7 8 6 2 4 7 1 0 7 3 0 9 8 9 1 7 8 2\n",
      " 7 5 9 4 9 1 1 0 4 3 5 3 8 3 0 0 4 1 1 8 0 1 3 7 7 0 5 3 6 2 0 0 3 3 5 3 0\n",
      " 3 4 7 2 0 3 6 5 4 7 8 8 9 4 4 9 9 1 9 6 9 5 0 0 4 5 1 1 1 7 7 2 9 4 5 7 0\n",
      " 2 9 9 3 9 2 2 8 7 9 3 7 9 9 8 1 1 2 7 4 6 0 5 1 3 4 4 4 7 1 9 4 1 8 1 6 4\n",
      " 3 1 6 2 3 2 7 1 9 9 0 2 6 2 4 6 3 7 2 0 4 5 5 0 1 0 9 1 9 3 7 0 1 1 9 6 2\n",
      " 6 6 1 3 9 3 9 9 8 6 7 3 9 4 8 6 8 5 0 2 9 1 0 3 4 7 1 1 3 8 9 6 6 0 5 7 7\n",
      " 6 6 5 9 9 1 7 7 7 3 6 7 9 9 9 6 7 3 4 5 2 5 1 7 8 6 1 9 3 4 4 3 1 2 4 2 9\n",
      " 0 0 7 6 4 7 7 6 3 1 9 0 5 3 6 2 5 6 2 1 5 3 5 5 4 1 8 1 4 2 7 2 4 8 3 7 3\n",
      " 5 5 6 5 0 8 9 2 0 3 2 7 4 1 8 0 3 7 0 4 7 4 9 6 6 1 1 0 6 7 2 5 6 9 6 0 3\n",
      " 3 0 5 8 0 9 7 5 7 4 2 7 4 3 9 8 7 9 1 3 2 0 4 0 6 4 6 6 0 4 1 2 2 7 7 1 1\n",
      " 0 9 7 5 8 1 1 4 1 8 0 6 9 2 0 9 2 4 9 2 1 9 1 2 9 1 9 0 4 2 3 5 7 7 5 8 3\n",
      " 7 6 6 8 6 7 8 6 3 7 5 8 1 2 5 3 2 7 0 5 2 8 9 6 3 9 0 6 7 8 9 8 6 9 6 6 7\n",
      " 2 2 1 7 2 4 0 6 2 8 0 4 2 6 1 1 7 4 0 9 3 7 9 0 1 4 1 5 1 1 9 1 6 3 1 7 1\n",
      " 5 5 6 3 1 4 7 8 7 1 1 2 5 7 7 2 9 3 0 3 0 1 5 0 8 8 5 9 2 6 7 9 7 6 1 6 5\n",
      " 2 9 5 2 9 3 2 5 7 8 5 1 7 0 5 5 2 7 4 2 6 7 1 4 0 7 1 5 0 1 8 7 9 9 1 9 1\n",
      " 3 4 7 3 3 6 5 5 8 5 7 4 2 6 1 4 9 9 8 0 9 8 0 9 9 9 2 7 4 7 0 3 0 3 9 0 1\n",
      " 1 3 4 8 5 2 6 7 4 3 6 2 0 1 2 7 0 6 7 1 0 2 1 2 7 8 1 9 9 7 3 7 8 6 1 9 8\n",
      " 7 6 6 3 3 1 5 3 3 5 2 6 5 3 5 6 5 5 9 7 6 1 5 9 9 0 6 0 5 7 5 4 1 3 7 1 0\n",
      " 0 4 6 4 5 5 1 6 1 2 7 7 0 1 6 9 1 7 6 1 3 0 2 4 4 9 7 6 8 5 4 1 4 7 5 6 1\n",
      " 3 9 0 6 1 6 7 9 6 5 5 2 1 1 8 3 4 9 8 3 7 3 2 1 1 5 3 8 8 3 2 3 1 7 6 8 7\n",
      " 3 0 3 8 8 5 3 6 8 0 6 7 6 0 0 7 3 1 9 6 1 0 5 9 2 7 8 9 9 4 3 7 5 0 0 7 0\n",
      " 4 4 3 7 9 8 8 5 8 0 7 7 2 4 8 2 1 5 1 5 9 6 6 3 4 1 6 3 4 6 3 4 1 6 7 4 6\n",
      " 7 5 5 2 5 5 9 1 3 9 5 4 9 0 1 1 0 6 4 1 7 5 2 2 9 0 9 1 9 3 2 1 5 9 9 5 7\n",
      " 3 0 2 6 9 8 3 6 7 1 4 2 4 2 5 7 8 7 1 3 1 4 5 1 9 6 5 4 6 5 9 5 0 6 6 3 2\n",
      " 7 4 9 6 7 1 9 4 2 7 4 6 3 1 1 1 0 3 0 0 0 7 6 7 6 4 4 6 9 0 1 3 9 0 0 5 1\n",
      " 1 5 0 1 8 7 3 0 9 6 7 6 8 3 2 5 1 1 6 8 5 0 3 6 4 5 3 4 6 2 4 4 1 4 3 4 1\n",
      " 4 8 4 0 6 9 5 9 6 9 5 2 6 9 5 3 1 0 5 9 5 4 3 7 1 6 1 0 0 3 7 5 1 5 7 5 8\n",
      " 1] [2 1 9 0 7 9 8 8 6 1 3 9 4 8 1 6 0 2 6 7 8 6 2 4 7 1 0 7 3 0 9 5 9 1 7 8 5\n",
      " 7 5 9 7 9 8 1 0 4 3 5 7 8 3 0 0 4 1 1 8 0 8 5 7 7 0 8 3 6 2 0 0 3 3 5 3 0\n",
      " 3 4 7 2 0 3 6 3 4 7 8 8 9 7 4 9 9 1 9 6 9 3 0 0 4 5 1 1 1 7 7 2 9 4 5 7 0\n",
      " 2 9 9 2 9 2 6 1 9 9 3 7 7 9 8 1 1 2 7 4 6 9 5 1 5 4 4 4 7 1 9 4 1 8 1 6 4\n",
      " 3 1 6 2 3 2 7 1 8 9 0 2 6 2 4 5 3 7 2 0 4 5 5 0 1 0 9 1 9 3 7 0 1 1 9 2 2\n",
      " 6 6 1 3 9 3 4 9 4 6 7 3 9 4 8 6 8 5 0 2 4 1 0 3 4 7 1 1 3 8 9 8 6 0 5 9 7\n",
      " 6 6 5 9 7 1 9 4 7 8 6 7 9 9 9 6 7 3 4 5 2 5 1 7 8 6 1 4 7 8 4 3 1 2 4 2 9\n",
      " 0 0 7 8 4 9 1 6 3 1 4 0 5 3 6 2 5 6 3 1 5 3 5 3 4 1 8 5 4 2 9 2 9 8 3 7 3\n",
      " 5 5 6 5 0 8 9 2 0 3 2 7 4 1 8 0 3 7 0 4 7 4 9 8 6 1 1 0 6 7 2 5 6 9 6 0 3\n",
      " 3 0 5 8 0 9 7 5 7 4 2 7 4 3 7 8 7 9 8 3 2 0 4 0 6 4 6 5 0 4 1 0 7 7 4 1 1\n",
      " 0 8 9 3 8 1 1 4 1 5 0 0 8 2 0 9 2 4 9 2 1 4 5 3 9 1 9 0 4 2 3 5 7 7 5 4 3\n",
      " 7 6 6 5 6 7 8 6 3 7 5 8 1 2 5 3 2 7 0 9 2 8 9 6 3 9 0 2 7 8 9 4 6 9 5 6 7\n",
      " 2 2 1 7 2 9 5 6 2 8 0 4 2 6 1 1 7 4 0 4 3 7 9 6 1 9 1 8 1 1 9 1 6 3 1 7 8\n",
      " 3 5 6 3 1 4 9 7 7 1 5 2 6 7 7 6 9 5 0 3 0 1 5 6 8 5 6 4 2 6 7 9 7 6 1 6 5\n",
      " 2 9 5 2 4 3 2 5 9 8 5 1 7 0 6 5 2 7 8 2 6 7 1 4 0 9 1 5 0 1 3 7 9 9 1 9 1\n",
      " 3 4 7 3 5 6 5 0 8 8 7 4 2 6 1 4 9 9 8 0 4 8 0 4 9 9 3 7 4 7 0 3 0 3 9 0 1\n",
      " 1 3 4 9 5 2 6 7 4 7 6 2 0 1 2 7 0 6 7 1 0 2 1 2 9 5 5 9 9 7 3 7 8 6 8 9 8\n",
      " 7 6 6 3 3 1 5 8 3 5 6 6 5 3 5 6 5 5 9 7 6 1 5 9 9 0 6 0 5 7 5 4 1 8 7 1 0\n",
      " 0 4 6 3 5 5 1 6 1 2 7 7 0 1 6 4 1 7 6 1 3 0 2 4 9 8 7 6 8 5 4 1 4 7 5 6 1\n",
      " 3 5 0 6 8 6 7 9 6 5 5 9 1 1 5 3 4 9 8 3 7 3 2 1 1 3 3 8 8 3 1 3 1 7 6 8 7\n",
      " 3 0 3 8 8 3 2 6 8 0 6 7 6 0 0 7 3 1 9 6 1 6 5 9 2 7 2 9 9 4 3 5 4 0 0 3 0\n",
      " 4 4 3 7 4 8 8 5 8 0 7 7 2 4 8 0 1 5 1 5 9 6 6 3 5 1 6 8 4 6 9 4 8 6 7 7 6\n",
      " 7 5 5 2 5 5 9 1 3 4 5 4 9 0 1 1 0 6 4 1 7 2 2 2 9 0 9 1 9 3 2 7 5 9 9 5 7\n",
      " 3 0 2 6 9 8 3 6 7 1 4 2 4 3 5 7 8 7 1 3 1 4 5 1 7 2 5 4 6 5 9 5 0 6 6 3 4\n",
      " 7 4 0 6 7 1 7 4 2 7 4 6 3 1 1 1 0 3 0 0 0 7 6 7 6 4 4 6 8 0 1 3 4 0 0 5 1\n",
      " 1 5 0 1 8 7 3 0 9 6 7 6 8 3 2 5 1 1 8 8 5 0 3 6 4 5 3 4 6 2 4 4 1 4 3 4 1\n",
      " 4 8 4 0 6 9 5 9 6 9 3 2 6 9 8 2 1 0 8 9 0 4 8 7 1 6 1 0 0 3 7 8 1 8 7 5 8\n",
      " 1]\n",
      "The Accuracy of ANN on test data is:  0.848\n"
     ]
    }
   ],
   "source": [
    "print(f\"The Accuracy of ANN on test data is: \", get_accuracy(dev_predictions, Y_test))"
   ]
  }
 ],
 "metadata": {
  "kernelspec": {
   "display_name": "Python 3",
   "language": "python",
   "name": "python3"
  },
  "language_info": {
   "codemirror_mode": {
    "name": "ipython",
    "version": 3
   },
   "file_extension": ".py",
   "mimetype": "text/x-python",
   "name": "python",
   "nbconvert_exporter": "python",
   "pygments_lexer": "ipython3",
   "version": "3.12.4"
  }
 },
 "nbformat": 4,
 "nbformat_minor": 2
}
