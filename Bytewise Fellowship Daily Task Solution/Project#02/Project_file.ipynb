{
 "cells": [
  {
   "cell_type": "code",
   "execution_count": 2,
   "metadata": {},
   "outputs": [],
   "source": [
    "import pandas as pd\n",
    "import numpy as np\n",
    "import matplotlib.pyplot as plt\n",
    "import seaborn as sns\n",
    "import pickle\n",
    "from sklearn.preprocessing import StandardScaler,LabelEncoder,OneHotEncoder\n",
    "from sklearn.model_selection import cross_val_score,StratifiedKFold,RandomizedSearchCV\n",
    "from sklearn.linear_model import LogisticRegression\n",
    "from sklearn.ensemble import RandomForestClassifier\n",
    "from sklearn.svm import SVC\n",
    "from sklearn.tree import DecisionTreeClassifier\n",
    "from sklearn.neighbors import KNeighborsClassifier\n",
    "from sklearn.naive_bayes import GaussianNB\n",
    "from sklearn.metrics import confusion_matrix,precision_score,f1_score,recall_score"
   ]
  },
  {
   "cell_type": "code",
   "execution_count": 3,
   "metadata": {},
   "outputs": [],
   "source": [
    "results = pd.read_csv(r'data\\results.csv')\n",
    "races = pd.read_csv(r'data\\races.csv')\n",
    "quali = pd.read_csv(r'data\\qualifying.csv')\n",
    "drivers = pd.read_csv(r'data\\drivers.csv')\n",
    "constructors = pd.read_csv(r'data\\constructors.csv')\n",
    "circuit = pd.read_csv(r'data\\circuits.csv')"
   ]
  },
  {
   "cell_type": "code",
   "execution_count": 5,
   "metadata": {},
   "outputs": [],
   "source": [
    "df1 = pd.merge(races,results,how='inner',on=['raceId'])\n",
    "df2 = pd.merge(df1,quali,how='inner',on=['raceId','driverId','constructorId'])\n",
    "df3 = pd.merge(df2,drivers,how='inner',on=['driverId'])\n",
    "df4 = pd.merge(df3,constructors,how='inner',on=['constructorId'])\n",
    "df5 = pd.merge(df4, circuit, how='inner', on=['circuitId'], suffixes=('_df4', '_circuit'))\n"
   ]
  },
  {
   "cell_type": "code",
   "execution_count": 9,
   "metadata": {},
   "outputs": [
    {
     "name": "stdout",
     "output_type": "stream",
     "text": [
      "(8403, 51)\n",
      "Index(['raceId', 'year', 'round', 'circuitId', 'name_x', 'date', 'time_x',\n",
      "       'url_x', 'resultId', 'driverId', 'constructorId', 'number_x', 'grid',\n",
      "       'position_x', 'positionText', 'positionOrder', 'points', 'laps',\n",
      "       'time_y', 'milliseconds', 'fastestLap', 'rank', 'fastestLapTime',\n",
      "       'fastestLapSpeed', 'statusId', 'qualifyId', 'number_y', 'position_y',\n",
      "       'q1', 'q2', 'q3', 'driverRef', 'number', 'code', 'forename', 'surname',\n",
      "       'dob', 'nationality_x', 'url_y', 'constructorRef', 'name_y',\n",
      "       'nationality_y', 'url_df4', 'circuitRef', 'name', 'location', 'country',\n",
      "       'lat', 'lng', 'alt', 'url_circuit'],\n",
      "      dtype='object')\n"
     ]
    }
   ],
   "source": [
    "print(df5.shape)\n",
    "print(df5.columns)"
   ]
  },
  {
   "cell_type": "code",
   "execution_count": 16,
   "metadata": {},
   "outputs": [],
   "source": [
    "# List of columns to drop\n",
    "columns_to_drop = ['round','circuitId','time_x','url_x','resultId','driverId','constructorId','number_x','positionText','position_x','positionOrder','laps','time_y','rank','fastestLapTime','fastestLapSpeed','qualifyId','driverRef','number','code','url_y','circuitRef','location','lat','lng','alt','number_y','points','constructorRef','name_x','raceId','fastestLap','q2','q3','milliseconds','q1']\n",
    "columns_to_drop = [col for col in columns_to_drop if col in df5.columns]\n",
    "\n",
    "# Drop the columns\n",
    "data = df5.drop(columns=columns_to_drop)\n"
   ]
  },
  {
   "cell_type": "code",
   "execution_count": 17,
   "metadata": {},
   "outputs": [
    {
     "data": {
      "text/plain": [
       "Index(['year', 'date', 'grid', 'statusId', 'position_y', 'forename', 'surname',\n",
       "       'dob', 'nationality_x', 'name_y', 'nationality_y', 'url_df4', 'name',\n",
       "       'country', 'url_circuit'],\n",
       "      dtype='object')"
      ]
     },
     "execution_count": 17,
     "metadata": {},
     "output_type": "execute_result"
    }
   ],
   "source": [
    "data.columns"
   ]
  },
  {
   "cell_type": "code",
   "execution_count": 18,
   "metadata": {},
   "outputs": [
    {
     "ename": "ModuleNotFoundError",
     "evalue": "No module named 'F1PyStats'",
     "output_type": "error",
     "traceback": [
      "\u001b[1;31m---------------------------------------------------------------------------\u001b[0m",
      "\u001b[1;31mModuleNotFoundError\u001b[0m                       Traceback (most recent call last)",
      "Cell \u001b[1;32mIn[18], line 1\u001b[0m\n\u001b[1;32m----> 1\u001b[0m \u001b[38;5;28;01mimport\u001b[39;00m \u001b[38;5;21;01mF1PyStats\u001b[39;00m \u001b[38;5;28;01mas\u001b[39;00m \u001b[38;5;21;01mfp\u001b[39;00m\n",
      "\u001b[1;31mModuleNotFoundError\u001b[0m: No module named 'F1PyStats'"
     ]
    }
   ],
   "source": [
    "import F1PyStats as fp"
   ]
  },
  {
   "cell_type": "code",
   "execution_count": 15,
   "metadata": {},
   "outputs": [
    {
     "data": {
      "text/plain": [
       "Index(['raceId', 'year', 'round', 'circuitId', 'name_x', 'date', 'time_x',\n",
       "       'url_x', 'resultId', 'driverId', 'constructorId', 'number_x', 'grid',\n",
       "       'position_x', 'positionText', 'positionOrder', 'points', 'laps',\n",
       "       'time_y', 'milliseconds', 'fastestLap', 'rank', 'fastestLapTime',\n",
       "       'fastestLapSpeed', 'statusId', 'qualifyId', 'number_y', 'position_y',\n",
       "       'q1', 'q2', 'q3', 'driverRef', 'number', 'code', 'forename', 'surname',\n",
       "       'dob', 'nationality_x', 'url_y', 'constructorRef', 'name_y',\n",
       "       'nationality_y', 'url_df4', 'circuitRef', 'name', 'location', 'country',\n",
       "       'lat', 'lng', 'alt', 'url_circuit'],\n",
       "      dtype='object')"
      ]
     },
     "execution_count": 15,
     "metadata": {},
     "output_type": "execute_result"
    }
   ],
   "source": [
    "data.columns"
   ]
  }
 ],
 "metadata": {
  "kernelspec": {
   "display_name": "Python 3",
   "language": "python",
   "name": "python3"
  },
  "language_info": {
   "codemirror_mode": {
    "name": "ipython",
    "version": 3
   },
   "file_extension": ".py",
   "mimetype": "text/x-python",
   "name": "python",
   "nbconvert_exporter": "python",
   "pygments_lexer": "ipython3",
   "version": "3.12.4"
  }
 },
 "nbformat": 4,
 "nbformat_minor": 2
}
