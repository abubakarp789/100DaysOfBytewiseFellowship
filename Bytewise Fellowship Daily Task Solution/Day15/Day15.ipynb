{
 "cells": [
  {
   "cell_type": "code",
   "execution_count": 12,
   "metadata": {},
   "outputs": [],
   "source": [
    "import pandas as pd\n",
    "import numpy as np\n",
    "from sklearn.model_selection import train_test_split, cross_val_score, GridSearchCV, KFold\n",
    "from sklearn.ensemble import RandomForestClassifier, GradientBoostingClassifier\n",
    "from sklearn.preprocessing import StandardScaler, OneHotEncoder, LabelEncoder\n",
    "from sklearn.compose import ColumnTransformer\n",
    "from sklearn.pipeline import Pipeline\n",
    "from sklearn.metrics import precision_score, recall_score, f1_score, roc_curve, auc, RocCurveDisplay\n",
    "import matplotlib.pyplot as plt\n",
    "import matplotlib.pyplot as plt"
   ]
  },
  {
   "cell_type": "code",
   "execution_count": 5,
   "metadata": {},
   "outputs": [],
   "source": [
    "# Assume the dataset is loaded in a DataFrame named `data`\n",
    "data = pd.read_csv('adult.csv')\n",
    "\n",
    "# Handle missing values if any\n",
    "data = data.replace('?', np.nan)\n",
    "data = data.dropna()\n",
    "\n",
    "# Use a smaller subset of the data for quicker computation (optional)\n",
    "subset_data = data.sample(frac=0.2, random_state=42)\n",
    "\n",
    "# Define feature columns and target\n",
    "features = subset_data.drop(columns=['income'])\n",
    "target = subset_data['income']\n",
    "\n",
    "# Encode target variable\n",
    "label_encoder = LabelEncoder()\n",
    "target = label_encoder.fit_transform(target)\n",
    "\n",
    "# Preprocess data\n",
    "# Encode categorical variables and standardize numerical features\n",
    "categorical_features = features.select_dtypes(include=['object']).columns\n",
    "numerical_features = features.select_dtypes(include=['int64', 'float64']).columns\n",
    "\n",
    "preprocessor = ColumnTransformer(\n",
    "    transformers=[\n",
    "        ('num', StandardScaler(), numerical_features),\n",
    "        ('cat', OneHotEncoder(handle_unknown='ignore'), categorical_features)\n",
    "    ])\n",
    "\n",
    "# Split data into training and testing sets\n",
    "X_train, X_test, y_train, y_test = train_test_split(features, target, test_size=0.2, random_state=42)\n",
    "\n"
   ]
  },
  {
   "cell_type": "code",
   "execution_count": 3,
   "metadata": {},
   "outputs": [
    {
     "name": "stdout",
     "output_type": "stream",
     "text": [
      "Cross-Validation Scores: [0.85572139 0.84798231 0.83250415 0.85903814 0.84789823]\n",
      "Mean CV Score: 0.8486288444698825\n"
     ]
    }
   ],
   "source": [
    "# Define the model\n",
    "model = RandomForestClassifier(n_estimators=50, random_state=42)\n",
    "\n",
    "# Create a pipeline with preprocessing and model training\n",
    "pipeline = Pipeline(steps=[\n",
    "    ('preprocessor', preprocessor),\n",
    "    ('classifier', model)\n",
    "])\n",
    "\n",
    "# Perform k-fold cross-validation with fewer folds\n",
    "kf = KFold(n_splits=5, shuffle=True, random_state=42)\n",
    "cv_scores = cross_val_score(pipeline, features, target, cv=kf)\n",
    "\n",
    "print(f'Cross-Validation Scores: {cv_scores}')\n",
    "print(f'Mean CV Score: {np.mean(cv_scores)}')"
   ]
  },
  {
   "cell_type": "code",
   "execution_count": 7,
   "metadata": {},
   "outputs": [
    {
     "name": "stdout",
     "output_type": "stream",
     "text": [
      "Best Parameters: {'classifier__learning_rate': 0.1, 'classifier__n_estimators': 200}\n",
      "Best CV Score: 0.8657912923289566\n"
     ]
    }
   ],
   "source": [
    "# Create a pipeline with preprocessing and gradient boosting classifier\n",
    "gb_pipeline = Pipeline(steps=[\n",
    "    ('preprocessor', preprocessor),\n",
    "    ('classifier', GradientBoostingClassifier(random_state=42))\n",
    "])\n",
    "\n",
    "# Train and evaluate the model with varying numbers of estimators and learning rates\n",
    "param_grid = {\n",
    "    'classifier__n_estimators': [50, 100, 200],\n",
    "    'classifier__learning_rate': [0.01, 0.1, 0.2]\n",
    "}\n",
    "\n",
    "grid_search = GridSearchCV(gb_pipeline, param_grid, cv=5, scoring='accuracy')\n",
    "grid_search.fit(X_train, y_train)\n",
    "\n",
    "print(f'Best Parameters: {grid_search.best_params_}')\n",
    "print(f'Best CV Score: {grid_search.best_score_}')\n"
   ]
  },
  {
   "cell_type": "code",
   "execution_count": 9,
   "metadata": {},
   "outputs": [
    {
     "name": "stdout",
     "output_type": "stream",
     "text": [
      "Precision: 0.7752161383285303\n",
      "Recall: 0.5886214442013129\n",
      "F1-Score: 0.6691542288557214\n"
     ]
    }
   ],
   "source": [
    "# Define the random forest pipeline\n",
    "rf_pipeline = Pipeline(steps=[\n",
    "    ('preprocessor', preprocessor),\n",
    "    ('classifier', RandomForestClassifier(n_estimators=100, random_state=42))\n",
    "])\n",
    "\n",
    "# Train the random forest classifier\n",
    "rf_pipeline.fit(X_train, y_train)\n",
    "\n",
    "# Predict and evaluate\n",
    "y_pred = rf_pipeline.predict(X_test)\n",
    "precision = precision_score(y_test, y_pred)\n",
    "recall = recall_score(y_test, y_pred)\n",
    "f1 = f1_score(y_test, y_pred)\n",
    "\n",
    "print(f'Precision: {precision}')\n",
    "print(f'Recall: {recall}')\n",
    "print(f'F1-Score: {f1}')"
   ]
  },
  {
   "cell_type": "code",
   "execution_count": 13,
   "metadata": {},
   "outputs": [
    {
     "data": {
      "image/png": "[encoded data removed]",
      "text/plain": [
       "<Figure size 640x480 with 1 Axes>"
      ]
     },
     "metadata": {},
     "output_type": "display_data"
    },
    {
     "name": "stdout",
     "output_type": "stream",
     "text": [
      "ROC AUC: 0.9257393212745848\n"
     ]
    }
   ],
   "source": [
    "# Define the gradient boosting pipeline\n",
    "gb_pipeline = Pipeline(steps=[\n",
    "    ('preprocessor', preprocessor),\n",
    "    ('classifier', GradientBoostingClassifier(n_estimators=100, random_state=42))\n",
    "])\n",
    "\n",
    "# Train the gradient boosting classifier\n",
    "gb_pipeline.fit(X_train, y_train)\n",
    "\n",
    "# Plot ROC curve and compute AUC\n",
    "RocCurveDisplay.from_estimator(gb_pipeline, X_test, y_test)\n",
    "plt.show()\n",
    "\n",
    "# Compute AUC\n",
    "y_pred_proba = gb_pipeline.predict_proba(X_test)[:, 1]\n",
    "fpr, tpr, _ = roc_curve(y_test, y_pred_proba)\n",
    "roc_auc = auc(fpr, tpr)\n",
    "print(f'ROC AUC: {roc_auc}')\n"
   ]
  },
  {
   "cell_type": "code",
   "execution_count": 14,
   "metadata": {},
   "outputs": [
    {
     "name": "stdout",
     "output_type": "stream",
     "text": [
      "Random Forest - Accuracy: 0.84713199723566\n",
      "Random Forest - Precision: 0.7752161383285303\n",
      "Random Forest - Recall: 0.5886214442013129\n",
      "Random Forest - F1-Score: 0.6691542288557214\n",
      "Random Forest - ROC AUC: 0.9048277614491215\n",
      "Gradient Boosting - Accuracy: 0.8648237733241189\n",
      "Gradient Boosting - Precision: 0.8287461773700305\n",
      "Gradient Boosting - Recall: 0.5929978118161926\n",
      "Gradient Boosting - F1-Score: 0.6913265306122449\n",
      "Gradient Boosting - ROC AUC: 0.9257393212745848\n",
      "SVM - Accuracy: 0.8507256392536281\n",
      "SVM - Precision: 0.8068535825545171\n",
      "SVM - Recall: 0.5667396061269147\n",
      "SVM - F1-Score: 0.6658097686375322\n",
      "SVM - ROC AUC: 0.9077499255499593\n"
     ]
    }
   ],
   "source": [
    "from sklearn.svm import SVC\n",
    "\n",
    "# Define classifiers\n",
    "classifiers = {\n",
    "    'Random Forest': RandomForestClassifier(random_state=42),\n",
    "    'Gradient Boosting': GradientBoostingClassifier(random_state=42),\n",
    "    'SVM': SVC(probability=True, random_state=42)\n",
    "}\n",
    "\n",
    "# Evaluate each classifier\n",
    "for name, clf in classifiers.items():\n",
    "    pipeline = Pipeline(steps=[\n",
    "        ('preprocessor', preprocessor),\n",
    "        ('classifier', clf)\n",
    "    ])\n",
    "    scores = cross_val_score(pipeline, X_train, y_train, cv=5, scoring='accuracy')\n",
    "    pipeline.fit(X_train, y_train)\n",
    "    y_pred = pipeline.predict(X_test)\n",
    "    precision = precision_score(y_test, y_pred)\n",
    "    recall = recall_score(y_test, y_pred)\n",
    "    f1 = f1_score(y_test, y_pred)\n",
    "    y_pred_proba = pipeline.predict_proba(X_test)[:, 1]\n",
    "    roc_auc = auc(*roc_curve(y_test, y_pred_proba)[:2])\n",
    "    \n",
    "    print(f'{name} - Accuracy: {scores.mean()}')\n",
    "    print(f'{name} - Precision: {precision}')\n",
    "    print(f'{name} - Recall: {recall}')\n",
    "    print(f'{name} - F1-Score: {f1}')\n",
    "    print(f'{name} - ROC AUC: {roc_auc}')\n"
   ]
  }
 ],
 "metadata": {
  "kernelspec": {
   "display_name": "Python 3",
   "language": "python",
   "name": "python3"
  },
  "language_info": {
   "codemirror_mode": {
    "name": "ipython",
    "version": 3
   },
   "file_extension": ".py",
   "mimetype": "text/x-python",
   "name": "python",
   "nbconvert_exporter": "python",
   "pygments_lexer": "ipython3",
   "version": "3.12.2"
  }
 },
 "nbformat": 4,
 "nbformat_minor": 2
}
